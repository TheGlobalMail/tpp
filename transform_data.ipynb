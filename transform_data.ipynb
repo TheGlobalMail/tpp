{
 "metadata": {
  "name": ""
 },
 "nbformat": 3,
 "nbformat_minor": 0,
 "worksheets": [
  {
   "cells": [
    {
     "cell_type": "code",
     "collapsed": false,
     "input": [
      "import pandas as pd\n",
      "from sklearn_pandas import DataFrameMapper\n",
      "from sklearn import manifold\n",
      "from sklearn.metrics import euclidean_distances\n",
      "from ggplot import *"
     ],
     "language": "python",
     "metadata": {},
     "outputs": [],
     "prompt_number": 39
    },
    {
     "cell_type": "code",
     "collapsed": false,
     "input": [
      "vc.core.initialize_notebook()"
     ],
     "language": "python",
     "metadata": {},
     "outputs": [
      {
       "javascript": [
        "$.getScript(\"http://d3js.org/d3.v3.min.js\", function() {\n",
        "        $.getScript(\"http://trifacta.github.com/vega/vega.js\", function() {\n",
        "            $([IPython.events]).trigger(\"vega_loaded.vincent\");\n",
        "        })\n",
        "    });"
       ],
       "metadata": {},
       "output_type": "display_data",
       "text": [
        "<IPython.core.display.Javascript at 0x1097d2f50>"
       ]
      }
     ],
     "prompt_number": 47
    },
    {
     "cell_type": "code",
     "collapsed": false,
     "input": [
      "decisions = pd.read_csv('decisions.csv', delimiter=',')"
     ],
     "language": "python",
     "metadata": {},
     "outputs": [],
     "prompt_number": 2
    },
    {
     "cell_type": "code",
     "collapsed": false,
     "input": [
      "country_map = {\n",
      "    'US': 'United States',\n",
      "    'JP': 'Japan',\n",
      "    'MX': 'Mexico',\n",
      "    'CA': 'Canada',\n",
      "    'AU': 'Australia',\n",
      "    'MY': 'Malaysia',\n",
      "    'CL': 'Chile',\n",
      "    'SG': 'Singapore',\n",
      "    'PE': 'Peru',\n",
      "    'VN': 'Vietnam',\n",
      "    'NZ': 'New Zealand',\n",
      "    'BN': 'Brunei'\n",
      "}"
     ],
     "language": "python",
     "metadata": {},
     "outputs": [],
     "prompt_number": 3
    },
    {
     "cell_type": "code",
     "collapsed": false,
     "input": [
      "country_abbrevs = sorted(country_map.keys())"
     ],
     "language": "python",
     "metadata": {},
     "outputs": [],
     "prompt_number": 4
    },
    {
     "cell_type": "code",
     "collapsed": false,
     "input": [
      "relation = pd.DataFrame(index=country_abbrevs, columns=country_abbrevs)"
     ],
     "language": "python",
     "metadata": {},
     "outputs": [],
     "prompt_number": 5
    },
    {
     "cell_type": "code",
     "collapsed": false,
     "input": [
      "# number of matches for given pair of countries\n",
      "for i in relation.index:\n",
      "    for c in country_abbrevs:\n",
      "        matches = len(decisions[(decisions.countries.str.contains(i)) & (decisions.countries.str.contains(c))])\n",
      "        relation[c].ix[i] = float(matches)"
     ],
     "language": "python",
     "metadata": {},
     "outputs": [],
     "prompt_number": 6
    },
    {
     "cell_type": "code",
     "collapsed": false,
     "input": [
      "# put in terms of percentage of total votes\n",
      "def normalize_(country):\n",
      "    baseline = country[country.name]\n",
      "    return 1 - country / baseline"
     ],
     "language": "python",
     "metadata": {},
     "outputs": [],
     "prompt_number": 7
    },
    {
     "cell_type": "code",
     "collapsed": false,
     "input": [
      "relation = relation.apply(normalize_)"
     ],
     "language": "python",
     "metadata": {},
     "outputs": [],
     "prompt_number": 8
    },
    {
     "cell_type": "code",
     "collapsed": false,
     "input": [
      "combine = pd.concat((relation, relation.T))"
     ],
     "language": "python",
     "metadata": {},
     "outputs": [],
     "prompt_number": 10
    },
    {
     "cell_type": "code",
     "collapsed": false,
     "input": [
      "normalized = combine.groupby(combine.index).mean()"
     ],
     "language": "python",
     "metadata": {},
     "outputs": [],
     "prompt_number": 11
    },
    {
     "cell_type": "code",
     "collapsed": false,
     "input": [
      "euc = pd.DataFrame(euclidean_distances(normalized), index=normalized.index, columns=normalized.columns)"
     ],
     "language": "python",
     "metadata": {},
     "outputs": [],
     "prompt_number": 13
    },
    {
     "cell_type": "code",
     "collapsed": false,
     "input": [
      "mds = manifold.MDS()"
     ],
     "language": "python",
     "metadata": {},
     "outputs": [],
     "prompt_number": 14
    },
    {
     "cell_type": "code",
     "collapsed": false,
     "input": [
      "posdf = pd.DataFrame(mds.fit_transform(euc), index=euc.index)"
     ],
     "language": "python",
     "metadata": {},
     "outputs": [],
     "prompt_number": 26
    },
    {
     "cell_type": "code",
     "collapsed": false,
     "input": [
      "posdf['country_name'] = [country_map[abb] for abb in posdf.index]"
     ],
     "language": "python",
     "metadata": {},
     "outputs": [],
     "prompt_number": 27
    },
    {
     "cell_type": "code",
     "collapsed": false,
     "input": [
      "posdf.to_csv('positions.csv')"
     ],
     "language": "python",
     "metadata": {},
     "outputs": [],
     "prompt_number": 74
    },
    {
     "cell_type": "code",
     "collapsed": false,
     "input": [],
     "language": "python",
     "metadata": {},
     "outputs": []
    }
   ],
   "metadata": {}
  }
 ]
}