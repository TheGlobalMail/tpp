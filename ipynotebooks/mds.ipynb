{
 "metadata": {
  "name": ""
 },
 "nbformat": 3,
 "nbformat_minor": 0,
 "worksheets": [
  {
   "cells": [
    {
     "cell_type": "code",
     "collapsed": false,
     "input": [
      "import numpy as np\n",
      "\n",
      "from matplotlib import pyplot as plt\n",
      "from matplotlib.collections import LineCollection\n",
      "\n",
      "from sklearn import manifold\n",
      "from sklearn.metrics import euclidean_distances\n",
      "from sklearn.decomposition import PCA"
     ],
     "language": "python",
     "metadata": {},
     "outputs": [],
     "prompt_number": 1
    },
    {
     "cell_type": "code",
     "collapsed": false,
     "input": [
      "n_samples = 20\n",
      "seed = np.random.RandomState(seed=3)\n",
      "X_true = seed.randint(0, 20, 2 * n_samples).astype(np.float)\n",
      "X_true = X_true.reshape((n_samples, 2))"
     ],
     "language": "python",
     "metadata": {},
     "outputs": [],
     "prompt_number": 6
    },
    {
     "cell_type": "code",
     "collapsed": false,
     "input": [
      "X_true"
     ],
     "language": "python",
     "metadata": {},
     "outputs": [
      {
       "metadata": {},
       "output_type": "pyout",
       "prompt_number": 7,
       "text": [
        "array([[ 10.,   3.],\n",
        "       [  8.,   0.],\n",
        "       [ 19.,  10.],\n",
        "       [ 11.,   9.],\n",
        "       [ 10.,   6.],\n",
        "       [  0.,  12.],\n",
        "       [  7.,  14.],\n",
        "       [ 17.,   2.],\n",
        "       [  2.,   1.],\n",
        "       [ 19.,   5.],\n",
        "       [  8.,  14.],\n",
        "       [  1.,  10.],\n",
        "       [  7.,  11.],\n",
        "       [  1.,  15.],\n",
        "       [ 16.,   5.],\n",
        "       [ 17.,  14.],\n",
        "       [  0.,   0.],\n",
        "       [  9.,  18.],\n",
        "       [  5.,   7.],\n",
        "       [  5.,  14.]])"
       ]
      }
     ],
     "prompt_number": 7
    },
    {
     "cell_type": "code",
     "collapsed": false,
     "input": [
      "# Center the data\n",
      "X_true -= X_true.mean()"
     ],
     "language": "python",
     "metadata": {},
     "outputs": [],
     "prompt_number": 10
    },
    {
     "cell_type": "code",
     "collapsed": false,
     "input": [
      "X_true"
     ],
     "language": "python",
     "metadata": {},
     "outputs": [
      {
       "metadata": {},
       "output_type": "pyout",
       "prompt_number": 11,
       "text": [
        "array([[  1.45,  -5.55],\n",
        "       [ -0.55,  -8.55],\n",
        "       [ 10.45,   1.45],\n",
        "       [  2.45,   0.45],\n",
        "       [  1.45,  -2.55],\n",
        "       [ -8.55,   3.45],\n",
        "       [ -1.55,   5.45],\n",
        "       [  8.45,  -6.55],\n",
        "       [ -6.55,  -7.55],\n",
        "       [ 10.45,  -3.55],\n",
        "       [ -0.55,   5.45],\n",
        "       [ -7.55,   1.45],\n",
        "       [ -1.55,   2.45],\n",
        "       [ -7.55,   6.45],\n",
        "       [  7.45,  -3.55],\n",
        "       [  8.45,   5.45],\n",
        "       [ -8.55,  -8.55],\n",
        "       [  0.45,   9.45],\n",
        "       [ -3.55,  -1.55],\n",
        "       [ -3.55,   5.45]])"
       ]
      }
     ],
     "prompt_number": 11
    },
    {
     "cell_type": "code",
     "collapsed": false,
     "input": [
      "similarities = euclidean_distances(X_true)"
     ],
     "language": "python",
     "metadata": {},
     "outputs": [],
     "prompt_number": 13
    },
    {
     "cell_type": "code",
     "collapsed": false,
     "input": [
      "# Add noise to the similarities\n",
      "noise = np.random.rand(n_samples, n_samples)\n",
      "noise = noise + noise.T\n",
      "noise[np.arange(noise.shape[0]), np.arange(noise.shape[0])] = 0\n",
      "similarities += noise"
     ],
     "language": "python",
     "metadata": {},
     "outputs": [],
     "prompt_number": 15
    },
    {
     "cell_type": "code",
     "collapsed": false,
     "input": [
      "mds = manifold.MDS(n_components=2, max_iter=3000, eps=1e-9, random_state=seed,\n",
      "                   dissimilarity=\"precomputed\", n_jobs=1)\n",
      "pos = mds.fit(similarities).embedding_\n",
      "\n",
      "nmds = manifold.MDS(n_components=2, metric=False, max_iter=3000, eps=1e-12,\n",
      "                    dissimilarity=\"precomputed\", random_state=seed, n_jobs=1,\n",
      "                    n_init=1)\n",
      "npos = nmds.fit_transform(similarities, init=pos)"
     ],
     "language": "python",
     "metadata": {},
     "outputs": [],
     "prompt_number": 16
    },
    {
     "cell_type": "code",
     "collapsed": false,
     "input": [
      "# Rescale the data\n",
      "pos *= np.sqrt((X_true ** 2).sum()) / np.sqrt((pos ** 2).sum())\n",
      "npos *= np.sqrt((X_true ** 2).sum()) / np.sqrt((npos ** 2).sum())"
     ],
     "language": "python",
     "metadata": {},
     "outputs": [],
     "prompt_number": 21
    },
    {
     "cell_type": "code",
     "collapsed": false,
     "input": [
      "# Rotate the data\n",
      "clf = PCA(n_components=2)\n",
      "X_true = clf.fit_transform(X_true)"
     ],
     "language": "python",
     "metadata": {},
     "outputs": [],
     "prompt_number": 24
    },
    {
     "cell_type": "code",
     "collapsed": false,
     "input": [
      "pos = clf.fit_transform(pos)\n",
      "\n",
      "npos = clf.fit_transform(npos)"
     ],
     "language": "python",
     "metadata": {},
     "outputs": [],
     "prompt_number": 26
    },
    {
     "cell_type": "code",
     "collapsed": false,
     "input": [
      "fig = plt.figure(1)\n",
      "ax = plt.axes([0., 0., 1., 1.])\n",
      "\n",
      "plt.scatter(X_true[:, 0], X_true[:, 1], c='r', s=20)\n",
      "plt.scatter(pos[:, 0], pos[:, 1], s=20, c='g')\n",
      "plt.scatter(npos[:, 0], npos[:, 1], s=20, c='b')\n",
      "plt.legend(('True position', 'MDS', 'NMDS'), loc='best')"
     ],
     "language": "python",
     "metadata": {},
     "outputs": [
      {
       "metadata": {},
       "output_type": "pyout",
       "prompt_number": 32,
       "text": [
        "<matplotlib.legend.Legend at 0x10487ec10>"
       ]
      },
      {
       "metadata": {},
       "output_type": "display_data",
       "png": "[encoded data removed]",
       "text": [
        "<matplotlib.figure.Figure at 0x1046fff10>"
       ]
      }
     ],
     "prompt_number": 32
    },
    {
     "cell_type": "code",
     "collapsed": false,
     "input": [
      "similarities = similarities.max() / similarities * 100\n",
      "similarities[np.isinf(similarities)] = 0"
     ],
     "language": "python",
     "metadata": {},
     "outputs": [],
     "prompt_number": 33
    },
    {
     "cell_type": "code",
     "collapsed": false,
     "input": [
      "# Plot the edges\n",
      "start_idx, end_idx = np.where(pos)\n",
      "#a sequence of (*line0*, *line1*, *line2*), where::\n",
      "#            linen = (x0, y0), (x1, y1), ... (xm, ym)\n",
      "segments = [[X_true[i, :], X_true[j, :]]\n",
      "            for i in range(len(pos)) for j in range(len(pos))]\n",
      "values = np.abs(similarities)\n",
      "lc = LineCollection(segments,\n",
      "                    zorder=0, cmap=plt.cm.hot_r,\n",
      "                    norm=plt.Normalize(0, values.max()))\n",
      "lc.set_array(similarities.flatten())\n",
      "lc.set_linewidths(0.5 * np.ones(len(segments)))\n",
      "ax.add_collection(lc)\n",
      "\n",
      "plt.show()"
     ],
     "language": "python",
     "metadata": {},
     "outputs": [],
     "prompt_number": 34
    },
    {
     "cell_type": "code",
     "collapsed": false,
     "input": [],
     "language": "python",
     "metadata": {},
     "outputs": []
    }
   ],
   "metadata": {}
  }
 ]
}